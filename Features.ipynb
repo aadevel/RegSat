{
 "cells": [
  {
   "cell_type": "code",
   "execution_count": 102,
   "metadata": {},
   "outputs": [
    {
     "data": {
      "text/html": [
       "<style>.container { width:100% !important; }</style>"
      ],
      "text/plain": [
       "<IPython.core.display.HTML object>"
      ]
     },
     "metadata": {},
     "output_type": "display_data"
    }
   ],
   "source": [
    "from IPython.core.display import display, HTML\n",
    "display(HTML(\"<style>.container { width:100% !important; }</style>\"))\n",
    "\n",
    "%matplotlib inline\n",
    "import pandas as pd\n",
    "import numpy as np\n",
    "import seaborn as sns\n",
    "import matplotlib.pyplot as plt\n",
    "\n",
    "\n",
    "df = pd.read_csv('regstat.training.tsv.annotated.snp.2', sep=\"\\t\")\n",
    "dfcadd = pd.read_csv('regstat.training.tsv.regions2.cadd.2', sep=\"\\t\")\n",
    "dfcadd=dfcadd.drop_duplicates().reset_index().drop_duplicates(subset=['#chr', 'pos','ref','alt'])\n",
    "dftrain=df.merge(dfcadd,on=['#chr','pos','ref','alt'],how='left')\n",
    "dftrain['WhatSet']='Train'\n",
    "\n",
    "dft = pd.read_csv('regstat.test.tsv.annotated.snp', sep=\"\\t\")\n",
    "dftcadd = pd.read_csv('regstat.test.tsv.regions2.cadd.2', sep=\"\\t\")\n",
    "dftcadd=dftcadd.drop_duplicates().reset_index().drop_duplicates(subset=['#chr', 'pos','ref','alt'])\n",
    "dft2=dft.merge(dftcadd,on=['#chr','pos','ref','alt'],how='left')\n",
    "dft2['value']=0.0\n",
    "dft2['confidence']=0.0\n",
    "dft2['WhatSet']='Test'\n",
    "\n",
    "df2=pd.concat([dftrain,dft2],ignore_index=True)"
   ]
  },
  {
   "cell_type": "code",
   "execution_count": 103,
   "metadata": {},
   "outputs": [],
   "source": [
    "basics=['#chr','pos','ref','alt','gene','value','confidence', 'WhatSet']"
   ]
  },
  {
   "cell_type": "code",
   "execution_count": 104,
   "metadata": {},
   "outputs": [],
   "source": [
    "caddn=[ 'ConsScore',  'GC', 'CpG', 'mapAbility20bp', 'mapAbility35bp', 'scoreSegDup', 'priPhCons', 'mamPhCons', 'verPhCons', 'priPhyloP', 'mamPhyloP', 'verPhyloP', 'GerpN', 'GerpS', 'GerpRS', 'GerpRSpval', 'bStatistic', 'mutIndex', 'dnaHelT', 'dnaMGW', 'dnaProT', 'dnaRoll','fitCons', 'cHmmTssA', 'cHmmTssAFlnk', 'cHmmTxFlnk', 'cHmmTx', 'cHmmTxWk', 'cHmmEnhG', 'cHmmEnh',  'cHmmHet', 'cHmmTssBiv', 'cHmmBivFlnk', 'cHmmEnhBiv', 'cHmmReprPC', 'cHmmReprPCWk', 'cHmmQuies', 'EncExp', 'EncH3K27Ac', 'EncH3K4Me1', 'EncH3K4Me3', 'EncNucleo', 'EncOCC', 'EncOCCombPVal', 'EncOCDNasePVal', 'EncOCFairePVal', 'EncOCpolIIPVal', 'EncOCctcfPVal', 'EncOCmycPVal', 'EncOCDNaseSig', 'EncOCFaireSig', 'EncOCpolIISig', 'EncOCctcfSig', 'EncOCmycSig',  'motifEScoreChng', 'minDistTSS', 'minDistTSE','relcDNApos', 'CDSpos', 'relCDSpos', 'PHRED']\n",
    "caddc=['AnnoType','Consequence','ConsDetail',  'Segway', 'tOverlapMotifs',  'motifEName','isKnownVariant', 'Dst2SplType']\n",
    "caddn0=['motifECount','TFBS',  'TFBSPeaks',  'TFBSPeaksMax', 'TG_AF']\n",
    "caddabs=[ 'motifDist','Dst2Splice']\n",
    "notsure=['mirSVR-Score', 'mirSVR-E', 'mirSVR-Aln', 'targetScan' ]"
   ]
  },
  {
   "cell_type": "code",
   "execution_count": 105,
   "metadata": {},
   "outputs": [],
   "source": [
    "defc=['RegulomeDB_score','network_hub','sensitive','target_gene','fathmm-MKL_non-coding_pred','fathmm-MKL_coding_group','hESC_Topological_Domain','IMR90_Topological_Domain','ENCODE_TFBS','ENCODE_Dnase_score','Ensembl_Regulatory_Build_feature_type','Ensembl_Regulatory_Build_TFBS']\n",
    "cellt=['Ensembl_HeLa_S3_activity','Ensembl_HELAS3_segmentation','ENCODE_Helas3_segmentation','Ensembl_K562_activity','Ensembl_K562_segmentation','ENCODE_K562_segmentation','Ensembl_HepG2_activity','Ensembl_HEPG2_segmentation','ENCODE_Hepg2_segmentation']\n",
    "defn=['MAP20','MAP35','MAP20(+-149bp)','MAP35(+-149bp)','GMS_single-end','GMS_paired-end','phastCons100way_vertebrate_rankscore','GERP_RS_rankscore','integrated_fitCons_rankscore','GM12878_fitCons_rankscore','H1-hESC_fitCons_rankscore','HUVEC_fitCons_rankscore','GenoCanyon_rankscore','funseq_noncoding_score','funseq2_noncoding_rankscore','CADD_phred','DANN_rank_score','fathmm-MKL_non-coding_rankscore','Eigen-PC-phred']\n",
    "defn0=['splicing_consensus_ada_score','splicing_consensus_rf_score','1000Gp3_AC','UK10K_AC','TWINSUK_AC','gnomAD_genomes_AC']\n",
    "maybec=['ANNOVAR_ensembl_Effect','SnpEff_ensembl_Effect','SnpEff_ensembl_Effect_impact','SnpEff_ensembl_Distance_to_feature','SnpEff_ensembl_TF_binding_effect','SnpEff_ensembl_TF_name','SnpEff_ensembl_summary','RegulomeDB_motif','Motif_breaking','ENCODE_annotated','FANTOM5_enhancer_differentially_expressed_tissue_cell']"
   ]
  },
  {
   "cell_type": "code",
   "execution_count": 106,
   "metadata": {},
   "outputs": [],
   "source": [
    "o1=['ENCODE_TFBS_score']\n",
    "possc=['ORegAnno_type', 'FANTOM5_CAGE_peak_permissive']"
   ]
  },
  {
   "cell_type": "code",
   "execution_count": 107,
   "metadata": {},
   "outputs": [],
   "source": [
    "ecol=[col for col in df if col[0]==\"E\" and col[1].isdigit()]\n",
    "codes = {'N':0, 'Y':1}\n",
    "for i  in ecol:\n",
    "    df2[i]=df2[i].map(codes)\n",
    "    \n",
    "narrowpeaks=['DNase.macs2','H2A.Z','H2AK5ac','H2AK9ac','H2BK120ac','H2BK12ac','H2BK15ac','H2BK20ac','H2BK5ac','H3K14ac','H3K18ac','H3K23ac','H3K23me2','H3K27ac','H3K27me3','H3K36me3','H3K4ac',\n",
    " 'H3K4me1','H3K4me2','H3K4me3','H3K56ac','H3K79me1','H3K79me2','H3K9ac','H3K9me1','H3K9me3','H3T11ph','H4K12ac','H4K20me1','H4K5ac','H4K8ac','H4K91ac']\n",
    "mc=[]\n",
    "for i in narrowpeaks:\n",
    "    narrow=str(i)+'.narrowPeak'\n",
    "    matchcols=[col for col in df2 if col[0]==\"E\" and col[1].isdigit() and narrow in col]#\n",
    "    meancols='mean'+str(i)\n",
    "    df2[meancols]=df2[matchcols].sum(axis=1)\n",
    "    mc.append(meancols)\n",
    "    \n",
    "hotspots=['DNase.hotspot.all', 'DNase.hotspot.fdr0.01']\n",
    "for i in hotspots:\n",
    "    narrow=str(i)\n",
    "    matchcols=[col for col in df2 if col[0]==\"E\" and col[1].isdigit() and narrow in col]#\n",
    "    meancols='mean'+str(i)\n",
    "    df2[meancols]=df2[matchcols].sum(axis=1)\n",
    "    mc.append(meancols)\n",
    "\n",
    "rcol=[col for col in df if col.startswith('Roadmap')]\n",
    "df2['meanRoadmap']=df2[rcol].sum(axis=1)\n",
    "mc.append('meanRoadmap')"
   ]
  },
  {
   "cell_type": "code",
   "execution_count": 118,
   "metadata": {},
   "outputs": [
    {
     "name": "stdout",
     "output_type": "stream",
     "text": [
      "['meanDNase.macs2', 'meanH2A.Z', 'meanH2AK5ac', 'meanH2AK9ac', 'meanH2BK120ac', 'meanH2BK12ac', 'meanH2BK15ac', 'meanH2BK20ac', 'meanH2BK5ac', 'meanH3K14ac', 'meanH3K18ac', 'meanH3K23ac', 'meanH3K23me2', 'meanH3K27ac', 'meanH3K27me3', 'meanH3K36me3', 'meanH3K4ac', 'meanH3K4me1', 'meanH3K4me2', 'meanH3K4me3', 'meanH3K56ac', 'meanH3K79me1', 'meanH3K79me2', 'meanH3K9ac', 'meanH3K9me1', 'meanH3K9me3', 'meanH3T11ph', 'meanH4K12ac', 'meanH4K20me1', 'meanH4K5ac', 'meanH4K8ac', 'meanH4K91ac', 'meanDNase.hotspot.all', 'meanDNase.hotspot.fdr0.01', 'meanRoadmap']\n"
     ]
    }
   ],
   "source": [
    "print mc"
   ]
  },
  {
   "cell_type": "code",
   "execution_count": 109,
   "metadata": {},
   "outputs": [],
   "source": [
    "df2['ref-0']=df2['ref'].fillna(0)\n",
    "df2['ref1']=df2.shift(1)['ref'].fillna(0)\n",
    "df2['ref-1']=df2.shift(-1)['ref'].fillna(0)\n",
    "df2['ref-2']=df2.shift(-2)['ref'].fillna(0)\n",
    "df2['ref2']=df2.shift(2)['ref'].fillna(0)\n",
    "\n",
    "df2['Trimer']=df2['ref1'].map(str) + df2['ref-0'].map(str) + df2['ref-1'].map(str)\n",
    "df2['TrimerMut']=  df2['ref1'].map(str) + df2['ref-0'].map(str) + df2['ref-1'].map(str) + df2['alt'].map(str)\n",
    "\n",
    "df2['Tetra']=df2['ref2'].map(str) +  df2['ref1'].map(str) + df2['ref-0'].map(str) + df2['ref-1'].map(str) + df2['ref-2'].map(str)"
   ]
  },
  {
   "cell_type": "code",
   "execution_count": 110,
   "metadata": {},
   "outputs": [],
   "source": [
    "df2['valuec']=df2.apply(lambda x: -1.0 if x['value'] < 0 else 1.0, axis=1)"
   ]
  },
  {
   "cell_type": "code",
   "execution_count": 111,
   "metadata": {},
   "outputs": [],
   "source": [
    "tri = pd.read_csv('trimer.avgscore', sep=\"\\t\")\n",
    "df2 = df2.merge(tri, on=['Trimer'],how='left')\n",
    "\n",
    "aacols=['valuec', 'Trimer', 'TrimerAvg', 'TrimerMut','Tetra']"
   ]
  },
  {
   "cell_type": "code",
   "execution_count": 114,
   "metadata": {},
   "outputs": [],
   "source": [
    "#df4=df2[['#chr','pos','ref','alt', 'value', 'gene', 'Dst2Splice', 'relcDNApos', 'minDistTSE', 'minDistTSS', 'TFBSPeaksMax', 'motifDist', 'EncOCmycSig', 'EncOCC', 'EncH3K4Me3', 'EncH3K27Ac',  'MAP20', 'GMS_single-end',  'RegulomeDB_score', 'network_hub', 'target_gene', 'TFBS']+mc]\n",
    "\n",
    "df5=df2[basics+caddn+caddn0+caddc+caddabs+defc+defn+defn0+mc+aacols]\n",
    "df5.to_csv('df5.tsv',sep=\"\\t\")\n"
   ]
  }
 ],
 "metadata": {
  "kernelspec": {
   "display_name": "Python 2",
   "language": "python",
   "name": "python2"
  },
  "language_info": {
   "codemirror_mode": {
    "name": "ipython",
    "version": 2
   },
   "file_extension": ".py",
   "mimetype": "text/x-python",
   "name": "python",
   "nbconvert_exporter": "python",
   "pygments_lexer": "ipython2",
   "version": "2.7.12"
  }
 },
 "nbformat": 4,
 "nbformat_minor": 2
}
